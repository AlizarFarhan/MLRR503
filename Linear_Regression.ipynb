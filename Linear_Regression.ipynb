{
 "cells": [
  {
   "cell_type": "markdown",
   "id": "1cf73827-9020-44e2-afea-f501d79cc17e",
   "metadata": {},
   "source": [
    "<a href=\"https://www.aus.edu/\"><img src=\"https://i.imgur.com/pdZvnSD.png\" width=200> </a>\n",
    "\n",
    "<h1 align=center><font size = 5>Regression - Univariate and Multivariate</font>\n",
    "<h1 align=center><font size = 5>Prepared by Alex Aklson, Ph.D.</font>\n",
    "<h1 align=center><font size = 5>October 3, 2024</font>"
   ]
  },
  {
   "cell_type": "code",
   "execution_count": null,
   "id": "3c179c02-a1ec-4144-874e-4df3fd795f08",
   "metadata": {},
   "outputs": [],
   "source": [
    "import numpy as np\n",
    "import pandas as pd\n",
    "import matplotlib.pyplot as plt\n",
    "import seaborn as sns\n",
    "\n",
    "from sklearn.model_selection import train_test_split\n",
    "from sklearn.preprocessing import StandardScaler, MinMaxScaler\n",
    "from sklearn.linear_model import LinearRegression, SGDRegressor\n",
    "\n",
    "from sklearn.metrics import root_mean_squared_error, mean_squared_error, r2_score\n",
    "\n",
    "from sklearn.datasets import fetch_california_housing"
   ]
  },
  {
   "cell_type": "markdown",
   "id": "18917977-42fb-4898-9c53-a5c6675c6c6b",
   "metadata": {},
   "source": [
    "Create a random dataset."
   ]
  },
  {
   "cell_type": "code",
   "execution_count": null,
   "id": "02b19766-aad9-4aea-8ed8-e73b32acc6ce",
   "metadata": {},
   "outputs": [],
   "source": [
    "np.random.seed(0)\n",
    "X = 2 * np.random.rand(100, 1) \n",
    "y = 4 + 3 * X + np.random.randn(100, 1) "
   ]
  },
  {
   "cell_type": "code",
   "execution_count": null,
   "id": "d5f07f52-fe42-4f3a-bd55-fd7d221d01aa",
   "metadata": {},
   "outputs": [],
   "source": [
    "plt.scatter(X, y)\n",
    "plt.xlabel('Size (m2)')\n",
    "plt.ylabel('Price ($100,000)')\n",
    "plt.show()"
   ]
  },
  {
   "cell_type": "markdown",
   "id": "ad06aa4a-76f1-440e-99ef-33fb5b8150d5",
   "metadata": {},
   "source": [
    "Split the dataset into training and test sets."
   ]
  },
  {
   "cell_type": "code",
   "execution_count": null,
   "id": "bacd6f64-005e-4d35-abc1-f4c7073a248e",
   "metadata": {},
   "outputs": [],
   "source": [
    "X_train, X_test, y_train, y_test = train_test_split(X, y, test_size=0.2, random_state=42)"
   ]
  },
  {
   "cell_type": "markdown",
   "id": "fa5792e5-3d37-4a2c-b598-e54c194b20e8",
   "metadata": {},
   "source": [
    "### Normal Equation (Ordinary Least Squares)"
   ]
  },
  {
   "cell_type": "code",
   "execution_count": null,
   "id": "041806ca-aa96-4e5e-a06b-e5b70e1bb94c",
   "metadata": {},
   "outputs": [],
   "source": [
    "model = LinearRegression()"
   ]
  },
  {
   "cell_type": "code",
   "execution_count": null,
   "id": "1789e9d4-2e3c-420f-8a6a-64a0b9d61272",
   "metadata": {},
   "outputs": [],
   "source": [
    "model.fit(X_train, y_train)"
   ]
  },
  {
   "cell_type": "markdown",
   "id": "b4f20eb7-0803-4981-88d8-c0a15546cb23",
   "metadata": {},
   "source": [
    "Get the parameters (weight values)"
   ]
  },
  {
   "cell_type": "code",
   "execution_count": null,
   "id": "6ea2be67-030e-48d5-8e3f-c673c3bcf468",
   "metadata": {},
   "outputs": [],
   "source": [
    "weight_0 = model.intercept_  # this is the bias term (w_0)\n",
    "weight_1 = model.coef_  # this is the slope (w_1)"
   ]
  },
  {
   "cell_type": "code",
   "execution_count": null,
   "id": "cd2a4272-d9b9-47f6-ab8c-a55192d6de98",
   "metadata": {},
   "outputs": [],
   "source": [
    "print(\"Intercept (w_0): {}\".format(weight_0))\n",
    "print(\"Coefficient (w_1): {}\".format(weight_1))"
   ]
  },
  {
   "cell_type": "markdown",
   "id": "46b2ca9e-8cf0-44f7-b111-701746fce59f",
   "metadata": {},
   "source": [
    "Let's predict the values of the samples in the test set."
   ]
  },
  {
   "cell_type": "code",
   "execution_count": null,
   "id": "9b362824-718b-4f27-afce-1a4314d88db0",
   "metadata": {},
   "outputs": [],
   "source": [
    "y_pred = model.predict(X_test)"
   ]
  },
  {
   "cell_type": "code",
   "execution_count": null,
   "id": "0a7593bf-42db-4f5b-aea2-7babb6149820",
   "metadata": {},
   "outputs": [],
   "source": [
    "len(y_pred)"
   ]
  },
  {
   "cell_type": "code",
   "execution_count": null,
   "id": "baf241b9-c026-4f79-a94a-b7f50d766ea2",
   "metadata": {},
   "outputs": [],
   "source": [
    "y_pred"
   ]
  },
  {
   "cell_type": "markdown",
   "id": "7a0881ed-f17c-4d4f-8243-9dba0d01ef7d",
   "metadata": {},
   "source": [
    "Plot the data and the regression line"
   ]
  },
  {
   "cell_type": "code",
   "execution_count": null,
   "id": "13e41426-612d-4bb6-9de4-50dbf8e51d25",
   "metadata": {},
   "outputs": [],
   "source": [
    "plt.figure(figsize=(8, 5))\n",
    "\n",
    "plt.scatter(X, y, color='blue', label='Actual data')\n",
    "plt.plot(X_test, y_pred, color='red', label='Regression line')\n",
    "plt.xlabel('Size (m2)')\n",
    "plt.ylabel('Price ($100,000)')\n",
    "plt.legend()\n",
    "\n",
    "ax = plt.gca() \n",
    "ax.spines['top'].set_visible(False)\n",
    "ax.spines['right'].set_visible(False)\n",
    "\n",
    "plt.show()"
   ]
  },
  {
   "cell_type": "markdown",
   "id": "cf0dc227-6ad2-4648-838f-58f904b2ddc9",
   "metadata": {},
   "source": [
    "Calculate mean squared error and R-squared."
   ]
  },
  {
   "cell_type": "code",
   "execution_count": null,
   "id": "51bf75fc-1357-4abf-b4c3-90395b610646",
   "metadata": {},
   "outputs": [],
   "source": [
    "rmse = root_mean_squared_error(y_test, y_pred)\n",
    "r2 = r2_score(y_test, y_pred)"
   ]
  },
  {
   "cell_type": "code",
   "execution_count": null,
   "id": "9c6e765f-372c-4cdf-bb24-90297964640d",
   "metadata": {},
   "outputs": [],
   "source": [
    "print(\"Root Mean Squared Error: {}\".format(rmse))\n",
    "print(\"R-squared: {}\".format(r2))"
   ]
  },
  {
   "cell_type": "markdown",
   "id": "150db9b9-565b-4941-a020-4523ec973180",
   "metadata": {},
   "source": [
    "### Gradient Descent - StandardScaler"
   ]
  },
  {
   "cell_type": "markdown",
   "id": "7f45c522-7caa-4567-9b9d-c46fcda95a51",
   "metadata": {},
   "source": [
    "Visualize the distribution of the data."
   ]
  },
  {
   "cell_type": "code",
   "execution_count": null,
   "id": "a4e56882-206f-4c2b-ad0d-b841c6aa2d48",
   "metadata": {},
   "outputs": [],
   "source": [
    "X_train_flattened = X_train.flatten()\n",
    "\n",
    "plt.figure(figsize=(8, 5))\n",
    "sns.histplot(X_train_flattened, bins=10, kde=True, color='blue')\n",
    "\n",
    "plt.xlabel('Size')\n",
    "plt.ylabel('Frequency')\n",
    "\n",
    "ax = plt.gca()\n",
    "ax.spines['top'].set_visible(False)\n",
    "ax.spines['right'].set_visible(False)"
   ]
  },
  {
   "cell_type": "markdown",
   "id": "ab0e0bef-7a30-4e95-b054-51017f5cb83f",
   "metadata": {},
   "source": [
    "Standardize the features."
   ]
  },
  {
   "cell_type": "code",
   "execution_count": null,
   "id": "c6c69dcb-750b-41a9-9a60-265a1db7dbae",
   "metadata": {},
   "outputs": [],
   "source": [
    "scaler = StandardScaler()\n",
    "X_train_scaled = scaler.fit_transform(X_train)\n",
    "X_test_scaled = scaler.transform(X_test)"
   ]
  },
  {
   "cell_type": "markdown",
   "id": "1a26841b-ed16-43fb-8217-3b9818c413a1",
   "metadata": {},
   "source": [
    "Visualize the distribution of the scaled data."
   ]
  },
  {
   "cell_type": "code",
   "execution_count": null,
   "id": "0323bfd4-29bc-42ca-8c27-88b0cda3ad94",
   "metadata": {},
   "outputs": [],
   "source": [
    "X_train_scaled_flattened = X_train_scaled.flatten()\n",
    "\n",
    "plt.figure(figsize=(8, 5))\n",
    "sns.histplot(X_train_scaled_flattened, bins=10, kde=True, color='blue')\n",
    "\n",
    "plt.xlabel('Size')\n",
    "plt.ylabel('Frequency')\n",
    "\n",
    "ax = plt.gca()\n",
    "ax.spines['top'].set_visible(False)\n",
    "ax.spines['right'].set_visible(False)"
   ]
  },
  {
   "cell_type": "markdown",
   "id": "278560d3-0a60-443f-81f9-5baee399e70e",
   "metadata": {},
   "source": [
    "Create an SGDRegressor model."
   ]
  },
  {
   "cell_type": "code",
   "execution_count": null,
   "id": "af76180d-44b9-4f74-8c4b-448f161df60d",
   "metadata": {},
   "outputs": [],
   "source": [
    "gradient_descent_model = SGDRegressor(max_iter=10000, tol=1e-3, eta0=0.01, random_state=42)"
   ]
  },
  {
   "cell_type": "markdown",
   "id": "2f2a3061-40d1-4905-bf8f-f85a7f8e2d42",
   "metadata": {},
   "source": [
    "Fit the model to the training data"
   ]
  },
  {
   "cell_type": "code",
   "execution_count": null,
   "id": "9394fa1d-0bae-4922-9cb7-6f126b6aecf7",
   "metadata": {},
   "outputs": [],
   "source": [
    "gradient_descent_model.fit(X_train_scaled, y_train.ravel())"
   ]
  },
  {
   "cell_type": "markdown",
   "id": "86e71eae-9a36-4a2d-b892-77c546ed80e2",
   "metadata": {},
   "source": [
    "Get the parameters (w values)."
   ]
  },
  {
   "cell_type": "code",
   "execution_count": null,
   "id": "a50e616b-ea06-4230-9e98-15250c0548aa",
   "metadata": {},
   "outputs": [],
   "source": [
    "gradient_descent_w_0 = gradient_descent_model.intercept_\n",
    "gradient_descent_w_1 = gradient_descent_model.coef_"
   ]
  },
  {
   "cell_type": "code",
   "execution_count": null,
   "id": "bf1db16a-c6a9-4407-b176-b152bfbf041c",
   "metadata": {},
   "outputs": [],
   "source": [
    "print(\"SGD Intercept (w_0): {}\".format(gradient_descent_w_0))\n",
    "print(\"SGD Coefficient (w_1): {}\".format(gradient_descent_w_1))"
   ]
  },
  {
   "cell_type": "markdown",
   "id": "47ddfead-2aeb-4b5a-bf97-fc2d0b35cc69",
   "metadata": {},
   "source": [
    "Retrieve the mean and standard deviation of the original training data."
   ]
  },
  {
   "cell_type": "code",
   "execution_count": null,
   "id": "14254222-d655-4863-a63c-ba171a82ee22",
   "metadata": {},
   "outputs": [],
   "source": [
    "X_mean = scaler.mean_  # mean of the original feature\n",
    "X_std = scaler.scale_  # standard deviation of the original feature"
   ]
  },
  {
   "cell_type": "markdown",
   "id": "547d7d3a-1e14-4f4a-ba94-56325c9baad2",
   "metadata": {},
   "source": [
    "Adjust the coefficients."
   ]
  },
  {
   "cell_type": "code",
   "execution_count": null,
   "id": "4446d4e0-0f42-4ec3-8b9d-428095202ac9",
   "metadata": {},
   "outputs": [],
   "source": [
    "w_1_adjusted = gradient_descent_model.coef_ / X_std\n",
    "w_0_adjusted = gradient_descent_model.intercept_ - (gradient_descent_model.coef_ * X_mean / X_std)"
   ]
  },
  {
   "cell_type": "code",
   "execution_count": null,
   "id": "5327c42f-897f-4bc1-97e4-22bcf165e324",
   "metadata": {},
   "outputs": [],
   "source": [
    "print(\"Adjusted Intercept (w_0): {}\".format(w_0_adjusted))\n",
    "print(\"Adjusted Coefficient (w_1): {}\".format(w_1_adjusted))"
   ]
  },
  {
   "cell_type": "markdown",
   "id": "0c3a77d8-b4e9-486a-84ec-bda81d88eade",
   "metadata": {},
   "source": [
    "Let's predict the values of the samples in the test set."
   ]
  },
  {
   "cell_type": "code",
   "execution_count": null,
   "id": "bfee7b4c-e4da-4f84-b64f-0d16c59f8116",
   "metadata": {},
   "outputs": [],
   "source": [
    "y_pred_gradient_descent = gradient_descent_model.predict(X_test_scaled)"
   ]
  },
  {
   "cell_type": "markdown",
   "id": "1c968a8a-bc33-46ca-ab60-723447099961",
   "metadata": {},
   "source": [
    "Calculate Mean Squared Error and R-squared for Gradient Descent."
   ]
  },
  {
   "cell_type": "code",
   "execution_count": null,
   "id": "865df103-7868-44eb-b0cc-5a87bcf5df38",
   "metadata": {},
   "outputs": [],
   "source": [
    "rmse_gradient_descent = root_mean_squared_error(y_test, y_pred_gradient_descent)\n",
    "r2_gradient_descent = r2_score(y_test, y_pred_gradient_descent)"
   ]
  },
  {
   "cell_type": "code",
   "execution_count": null,
   "id": "3976fd9e-481a-450a-be38-8704870159e7",
   "metadata": {},
   "outputs": [],
   "source": [
    "print(\"Gradient Descent Root Mean Squared Error: {}\".format(rmse_gradient_descent))\n",
    "print(\"Gradient Descent R-squared: {}\".format(r2_gradient_descent))"
   ]
  },
  {
   "cell_type": "markdown",
   "id": "8c42c8fd-526a-4fa3-8592-8824e39e7f14",
   "metadata": {},
   "source": [
    "Plot the original data points and the best-fit line."
   ]
  },
  {
   "cell_type": "code",
   "execution_count": null,
   "id": "32601868-8fe2-4087-ba64-b99940788bb0",
   "metadata": {},
   "outputs": [],
   "source": [
    "plt.figure(figsize=(8, 5))\n",
    "\n",
    "plt.scatter(X, y, color='blue', label='Actual data')  # scatter plot of actual values\n",
    "plt.plot(X_test, y_pred_gradient_descent, color='green', label='GD Best-fit line')  # best fit line from gradient descent\n",
    "plt.xlabel('Size (m2)')\n",
    "plt.ylabel('Price ($100,000)')\n",
    "\n",
    "ax = plt.gca() \n",
    "ax.spines['top'].set_visible(False)\n",
    "ax.spines['right'].set_visible(False)\n",
    "\n",
    "plt.legend()\n",
    "plt.show()"
   ]
  },
  {
   "cell_type": "markdown",
   "id": "b3888d17-feb6-4986-a2e8-0abbd40e61f0",
   "metadata": {},
   "source": [
    "Plot both the original data and both regression lines (Gradient Descent and closed-form)."
   ]
  },
  {
   "cell_type": "code",
   "execution_count": null,
   "id": "abae8736-ad78-44f3-9fd4-6d53a63f81d4",
   "metadata": {},
   "outputs": [],
   "source": [
    "plt.figure(figsize=(8, 5))\n",
    "\n",
    "plt.scatter(X, y, color='blue', label='Actual data')  # scatter plot of actual values\n",
    "plt.plot(X_test, y_pred_gradient_descent, color='green', label='GD Best-fit line')  # best-fit line from gradient descent\n",
    "plt.plot(X_test, y_pred, color='red', label='Closed-form Best-fit line')  # Best-fit line from closed-form\n",
    "\n",
    "plt.xlabel('Size (m2)')\n",
    "plt.ylabel('Price ($100,000)')\n",
    "plt.legend()\n",
    "\n",
    "ax = plt.gca() \n",
    "ax.spines['top'].set_visible(False)\n",
    "ax.spines['right'].set_visible(False)\n",
    "\n",
    "plt.show()"
   ]
  },
  {
   "cell_type": "markdown",
   "id": "655636c4-0569-4d16-b3e5-a09e5b2be615",
   "metadata": {},
   "source": [
    "### Gradient Descent - MinMaxScaler"
   ]
  },
  {
   "cell_type": "markdown",
   "id": "a512a219-77f5-4e3e-8b1b-9375623ddf8b",
   "metadata": {},
   "source": [
    "Define an instance of the MinMaxScaler."
   ]
  },
  {
   "cell_type": "code",
   "execution_count": null,
   "id": "eb3210a5-a298-467e-9460-65764ee54b19",
   "metadata": {},
   "outputs": [],
   "source": [
    "## Add your code here\n",
    "\n"
   ]
  },
  {
   "cell_type": "markdown",
   "id": "ab773379-8f94-43f6-a155-a72ec37dd475",
   "metadata": {},
   "source": [
    "Scale the features."
   ]
  },
  {
   "cell_type": "code",
   "execution_count": null,
   "id": "737c1027-d251-4028-9b13-394f8282e844",
   "metadata": {},
   "outputs": [],
   "source": [
    "## Add your code here\n",
    "\n"
   ]
  },
  {
   "cell_type": "markdown",
   "id": "c10ecb98-3e20-4f80-b812-65e6b9aff7d4",
   "metadata": {},
   "source": [
    "Visualize the distribution of the scaled data."
   ]
  },
  {
   "cell_type": "code",
   "execution_count": null,
   "id": "9b314790-d21e-4cb2-be27-735c81128470",
   "metadata": {},
   "outputs": [],
   "source": [
    "## Add your code here\n",
    "\n",
    "\n",
    "\n"
   ]
  },
  {
   "cell_type": "markdown",
   "id": "23cde05c-7980-413c-9ef7-cf054022f4d4",
   "metadata": {},
   "source": [
    "Create an SGDRegressor model."
   ]
  },
  {
   "cell_type": "code",
   "execution_count": null,
   "id": "25ddf62d-6393-48af-b41c-9ab7b7a6667b",
   "metadata": {},
   "outputs": [],
   "source": [
    "## Add your code here.\n",
    "\n"
   ]
  },
  {
   "cell_type": "markdown",
   "id": "99024d7d-82ae-4185-a932-6e958093f815",
   "metadata": {},
   "source": [
    "Fit the model to the training data."
   ]
  },
  {
   "cell_type": "code",
   "execution_count": null,
   "id": "bffa6f2f-d8bb-41d4-bfae-715820ca37b0",
   "metadata": {},
   "outputs": [],
   "source": [
    "## Add your code here.\n",
    "\n",
    "\n"
   ]
  },
  {
   "cell_type": "markdown",
   "id": "20021645-183f-4689-abcc-236d44d3cd58",
   "metadata": {},
   "source": [
    "Get the parameters (w values)."
   ]
  },
  {
   "cell_type": "code",
   "execution_count": null,
   "id": "2003563e-b909-4d2c-9f5e-bb6324c5815f",
   "metadata": {},
   "outputs": [],
   "source": [
    "## Add your code here\n",
    "\n"
   ]
  },
  {
   "cell_type": "markdown",
   "id": "8d0bcc87-ee88-4077-b751-0c10df56f5d9",
   "metadata": {},
   "source": [
    "Print the parameters."
   ]
  },
  {
   "cell_type": "code",
   "execution_count": null,
   "id": "beedc48f-cd5f-4f69-9e9c-8d590f6ce9c7",
   "metadata": {},
   "outputs": [],
   "source": [
    "## Add your code here\n",
    "\n"
   ]
  },
  {
   "cell_type": "markdown",
   "id": "cd351bb0-c39a-412d-8380-bc30bd11e93d",
   "metadata": {},
   "source": [
    "What do you notice? Do you they look close to the ones that were estimated by the Linear Equation and GD using standardized features?"
   ]
  },
  {
   "cell_type": "markdown",
   "id": "46d4374b-b143-4fce-91e2-fcb7e86ad855",
   "metadata": {},
   "source": [
    "Retrieve the min and max of the original training data."
   ]
  },
  {
   "cell_type": "code",
   "execution_count": null,
   "id": "d03e250a-5116-4ba7-9fb2-7d778322c8a9",
   "metadata": {},
   "outputs": [],
   "source": [
    "## Add your code here\n",
    "\n"
   ]
  },
  {
   "cell_type": "markdown",
   "id": "ec903314-095d-4d7f-a384-4f4f34440026",
   "metadata": {},
   "source": [
    "Adjust the coefficients."
   ]
  },
  {
   "cell_type": "code",
   "execution_count": null,
   "id": "9910fd6c-2ca7-4f32-9b5b-e4a6438a70dd",
   "metadata": {},
   "outputs": [],
   "source": [
    "## Add your code here\n",
    "\n"
   ]
  },
  {
   "cell_type": "markdown",
   "id": "70d6326c-1b93-4375-bab8-12385ff971ea",
   "metadata": {},
   "source": [
    "Print the adjusted coefficients."
   ]
  },
  {
   "cell_type": "code",
   "execution_count": null,
   "id": "10a1599f-e156-46a4-ac28-e77c1aa0be94",
   "metadata": {},
   "outputs": [],
   "source": [
    "## Add your code here\n",
    "\n",
    "\n"
   ]
  },
  {
   "cell_type": "markdown",
   "id": "35726f2a-d63b-437a-9c0a-0268c9c6454a",
   "metadata": {},
   "source": [
    "Let's predict the values of the samples in the test set."
   ]
  },
  {
   "cell_type": "code",
   "execution_count": null,
   "id": "758fb5df-3693-4ba3-96e1-9e4d29494308",
   "metadata": {},
   "outputs": [],
   "source": [
    "## Add your code here\n",
    "\n",
    "\n"
   ]
  },
  {
   "cell_type": "markdown",
   "id": "2b2166c4-448b-4549-a6c0-4e11b238d6d5",
   "metadata": {},
   "source": [
    "Calculate Mean Squared Error and R-squared for Gradient Descent."
   ]
  },
  {
   "cell_type": "code",
   "execution_count": null,
   "id": "7aec0f08-4d92-45d7-9cbf-1ea941a9ce76",
   "metadata": {},
   "outputs": [],
   "source": [
    "## Add your code here\n",
    "\n",
    "\n",
    "\n"
   ]
  },
  {
   "cell_type": "markdown",
   "id": "4d3c59c8-d7b6-4010-a61c-2efb1762bcf2",
   "metadata": {},
   "source": [
    "Print the evaluation metrics."
   ]
  },
  {
   "cell_type": "code",
   "execution_count": null,
   "id": "50364cd3-57dd-4883-96f9-bff796aef257",
   "metadata": {},
   "outputs": [],
   "source": [
    "## Add your code here\n",
    "\n",
    "\n"
   ]
  },
  {
   "cell_type": "markdown",
   "id": "03a43ba8-4ac7-456b-9852-2e10c180d57a",
   "metadata": {},
   "source": [
    "Plot the original data points and the best-fit line."
   ]
  },
  {
   "cell_type": "code",
   "execution_count": null,
   "id": "99405592-3c36-4367-9d09-da18a40b82e2",
   "metadata": {},
   "outputs": [],
   "source": [
    "## Add your code here\n",
    "\n",
    "\n",
    "\n"
   ]
  },
  {
   "cell_type": "markdown",
   "id": "d70c1642-e388-49c0-a325-503bc4cfc9e2",
   "metadata": {},
   "source": [
    "Plot both the original data and both regression lines (Gradient Descent and closed-form)."
   ]
  },
  {
   "cell_type": "code",
   "execution_count": null,
   "id": "524e3f0b-7435-4e32-83ba-0791766ebbb2",
   "metadata": {},
   "outputs": [],
   "source": [
    "## Add your code here\n",
    "\n",
    "\n",
    "\n"
   ]
  },
  {
   "cell_type": "markdown",
   "id": "61870cea-8362-45ec-a9f5-94117115c998",
   "metadata": {},
   "source": [
    "### Plotting the Cost Function $J(w_0, w_1)$ Against Number of Iterations"
   ]
  },
  {
   "cell_type": "code",
   "execution_count": null,
   "id": "f75491b7-f842-434e-9209-06fdbcb69e6e",
   "metadata": {},
   "outputs": [],
   "source": [
    "scaler = StandardScaler()\n",
    "X_train_scaled = scaler.fit_transform(X_train)\n",
    "X_test_scaled = scaler.transform(X_test)"
   ]
  },
  {
   "cell_type": "code",
   "execution_count": null,
   "id": "b021645e-05e8-4f83-8277-3389e5f7d599",
   "metadata": {},
   "outputs": [],
   "source": [
    "gradient_descent_model = SGDRegressor(max_iter=10000, eta0=0.01, random_state=42)"
   ]
  },
  {
   "cell_type": "code",
   "execution_count": null,
   "id": "0e3ba624-97e5-4cd7-a31d-39b1f15622e8",
   "metadata": {},
   "outputs": [],
   "source": [
    "costs = [] # list to store the cost function\n",
    "\n",
    "n_iterations = 100  # limit to 100 iterations\n",
    "check_interval = 5  # check cost every 5 iterations\n",
    "\n",
    "for iteration in range(n_iterations):\n",
    "    gradient_descent_model.partial_fit(X_train_scaled, y_train.ravel())\n",
    "    \n",
    "    if iteration % check_interval == 0:\n",
    "        y_train_pred = gradient_descent_model.predict(X_train_scaled) # predict on training data\n",
    "        \n",
    "        cost = mean_squared_error(y_train, y_train_pred) # calculate the cost (mean squared error)\n",
    "        costs.append(cost)\n",
    "        print(\"Iteration {}: Cost = {}\".format(iteration, cost))"
   ]
  },
  {
   "cell_type": "markdown",
   "id": "2fd0ca75-754f-4cf4-8532-5dcf49462ad2",
   "metadata": {},
   "source": [
    "Plot the cost function over iterations"
   ]
  },
  {
   "cell_type": "code",
   "execution_count": null,
   "id": "8c9208c0-1491-4c72-ad14-d51a63457561",
   "metadata": {},
   "outputs": [],
   "source": [
    "plt.figure(figsize=(10, 8))\n",
    "\n",
    "plt.plot(range(0, n_iterations, check_interval), costs, color='blue')\n",
    "plt.xlabel('Iterations')\n",
    "plt.ylabel('Cost (Mean Squared Error)')\n",
    "\n",
    "ax = plt.gca()\n",
    "ax.spines['top'].set_visible(False)\n",
    "ax.spines['right'].set_visible(False)\n",
    "\n",
    "plt.show()"
   ]
  },
  {
   "cell_type": "code",
   "execution_count": null,
   "id": "a008e317-667c-4a74-9f48-4133f1870fa4",
   "metadata": {},
   "outputs": [],
   "source": []
  },
  {
   "cell_type": "code",
   "execution_count": null,
   "id": "168c9fb2-f120-4176-8b38-8354a4d36a03",
   "metadata": {},
   "outputs": [],
   "source": []
  }
 ],
 "metadata": {
  "kernelspec": {
   "display_name": "Python 3 (ipykernel)",
   "language": "python",
   "name": "python3"
  },
  "language_info": {
   "codemirror_mode": {
    "name": "ipython",
    "version": 3
   },
   "file_extension": ".py",
   "mimetype": "text/x-python",
   "name": "python",
   "nbconvert_exporter": "python",
   "pygments_lexer": "ipython3",
   "version": "3.12.5"
  }
 },
 "nbformat": 4,
 "nbformat_minor": 5
}
