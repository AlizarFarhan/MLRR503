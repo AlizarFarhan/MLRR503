{
 "cells": [
  {
   "cell_type": "markdown",
   "id": "3deac8c1-ac14-416e-b7dd-d775ea2f3ebc",
   "metadata": {},
   "source": [
    "<center>\n",
    "    <a href=\"https://www.aus.edu/\"><img src=\"https://i.imgur.com/pdZvnSD.png\" width=200> </a>\n",
    "</center>\n",
    "\n",
    "<h1 align=center><font size = 5>Anomaly Detection</font>\n",
    "<h1 align=center><font size = 5>Prepared by Alex Aklson, Ph.D.</font>\n",
    "<h1 align=center><font size = 5>November 7, 2024</font>"
   ]
  },
  {
   "cell_type": "markdown",
   "id": "42289afe-9842-472e-8b7a-40e984cb9214",
   "metadata": {},
   "source": [
    "  "
   ]
  },
  {
   "cell_type": "markdown",
   "id": "ff0bf640-e769-4ac0-a02f-c36e821aca22",
   "metadata": {},
   "source": [
    "Import libraries and packages."
   ]
  },
  {
   "cell_type": "code",
   "execution_count": null,
   "id": "9ffebdf8-83a6-460c-884a-1d522a254c96",
   "metadata": {},
   "outputs": [],
   "source": [
    "import numpy as np\n",
    "import pandas as pd\n",
    "\n",
    "from scipy.stats import norm\n",
    "from sklearn.model_selection import train_test_split\n",
    "from sklearn.metrics import confusion_matrix, precision_score, recall_score, f1_score"
   ]
  },
  {
   "cell_type": "markdown",
   "id": "bf58eeb3-bb13-49f7-ac39-9204f81083b2",
   "metadata": {},
   "source": [
    "Read Aircraft Engine Data"
   ]
  },
  {
   "cell_type": "code",
   "execution_count": null,
   "id": "416e2f7f-f3f8-459e-a0a3-1d94fdacf6ce",
   "metadata": {},
   "outputs": [],
   "source": []
  },
  {
   "cell_type": "code",
   "execution_count": null,
   "id": "551f940c-87d3-49f3-95e9-b9a1cf3b9fa9",
   "metadata": {},
   "outputs": [],
   "source": []
  },
  {
   "cell_type": "code",
   "execution_count": null,
   "id": "8fbc93b0-3ec9-4e5d-ad3f-c41eef0ac6bd",
   "metadata": {},
   "outputs": [],
   "source": []
  },
  {
   "cell_type": "code",
   "execution_count": null,
   "id": "f7365ffd-fba3-4906-b999-3f6fd54a2731",
   "metadata": {},
   "outputs": [],
   "source": []
  },
  {
   "cell_type": "code",
   "execution_count": null,
   "id": "c384503b-3d9b-49ce-9005-ec436efac6cd",
   "metadata": {},
   "outputs": [],
   "source": []
  },
  {
   "cell_type": "code",
   "execution_count": null,
   "id": "45a78c88-df92-439b-9e0a-d79e4959f432",
   "metadata": {},
   "outputs": [],
   "source": []
  }
 ],
 "metadata": {
  "kernelspec": {
   "display_name": "Python 3 (ipykernel)",
   "language": "python",
   "name": "python3"
  },
  "language_info": {
   "codemirror_mode": {
    "name": "ipython",
    "version": 3
   },
   "file_extension": ".py",
   "mimetype": "text/x-python",
   "name": "python",
   "nbconvert_exporter": "python",
   "pygments_lexer": "ipython3",
   "version": "3.12.5"
  }
 },
 "nbformat": 4,
 "nbformat_minor": 5
}
